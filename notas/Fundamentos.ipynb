{
 "cells": [
  {
   "cell_type": "markdown",
   "metadata": {},
   "source": [
    "# Primeiros Exemplos "
   ]
  },
  {
   "cell_type": "code",
   "execution_count": 4,
   "metadata": {},
   "outputs": [
    {
     "name": "stdout",
     "output_type": "stream",
     "text": [
      "primeiro programa\n",
      "Help on built-in function print in module builtins:\n",
      "\n",
      "print(...)\n",
      "    print(value, ..., sep=' ', end='\\n', file=sys.stdout, flush=False)\n",
      "    \n",
      "    Prints the values to a stream, or to sys.stdout by default.\n",
      "    Optional keyword arguments:\n",
      "    file:  a file-like object (stream); defaults to the current sys.stdout.\n",
      "    sep:   string inserted between values, default a space.\n",
      "    end:   string appended after the last value, default a newline.\n",
      "    flush: whether to forcibly flush the stream.\n",
      "\n"
     ]
    }
   ],
   "source": [
    "print('primeiro programa')\n",
    "1 \\\n",
    "+ 2\n",
    "\n",
    "help(print)"
   ]
  },
  {
   "cell_type": "code",
   "execution_count": 6,
   "metadata": {},
   "outputs": [
    {
     "data": {
      "text/plain": [
       "6"
      ]
     },
     "execution_count": 6,
     "metadata": {},
     "output_type": "execute_result"
    }
   ],
   "source": [
    "1 + 2 + 3\n",
    "1 + 2 + 3"
   ]
  },
  {
   "cell_type": "code",
   "execution_count": 7,
   "metadata": {},
   "outputs": [
    {
     "name": "stdout",
     "output_type": "stream",
     "text": [
      "6\n",
      "6\n"
     ]
    }
   ],
   "source": [
    "print(1 + 2 + 3)\n",
    "print(1 + 2 + 3)"
   ]
  },
  {
   "cell_type": "markdown",
   "metadata": {},
   "source": [
    "# Tipos Basicos"
   ]
  },
  {
   "cell_type": "code",
   "execution_count": 15,
   "metadata": {},
   "outputs": [
    {
     "name": "stdout",
     "output_type": "stream",
     "text": [
      "True\n",
      "False\n",
      "2.2\n",
      "Aqui eu falo na minh alingua!\n",
      "Tambem funciona com aspas duplas\n",
      "Você é muito muito muito legal!\n",
      "[1, 2, 3]\n",
      "{'nome': 'Pedro', 'idade': 22}\n"
     ]
    }
   ],
   "source": [
    "print(True)\n",
    "print(False)\n",
    "print (1.2 + 1)\n",
    "print('Aqui eu falo na minh alingua!')\n",
    "print(\"Tambem funciona com aspas duplas\")\n",
    "print('Você é ' + 3 * 'muito ' + 'legal!')\n",
    "# print(3 + '3')                          -> ambiguidade - python nao tenta adivinhar o tipo de operação que voce quer fazer\n",
    "print([1, 2, 3])                         #-> lista, igual a dart\n",
    "print({'nome': 'Pedro', 'idade': 22})    #->dicionado, estrutura chave e valor, igual map em dart\n",
    "print(None)                              #->nulo"
   ]
  },
  {
   "cell_type": "markdown",
   "metadata": {},
   "source": [
    "# Variáveis"
   ]
  },
  {
   "cell_type": "code",
   "execution_count": 1,
   "metadata": {},
   "outputs": [
    {
     "name": "stdout",
     "output_type": "stream",
     "text": [
      "15.2\n",
      "Agora sou uma String\n"
     ]
    },
    {
     "data": {
      "text/plain": [
       "5.2"
      ]
     },
     "execution_count": 1,
     "metadata": {},
     "output_type": "execute_result"
    }
   ],
   "source": [
    "a = 10 # = é atribuição\n",
    "b = 5.2 \n",
    "print(a + b)\n",
    "\n",
    "a = 'Agora sou uma String'\n",
    "print(a)\n",
    "a\n",
    "b\n",
    "\n",
    "# print(a + b) 1-> nesse contexto gera ambiguidade, nesses casos o python não tenta solucionar, ele pede para que voce coloque de maneira explicita o tipo certo da variavel"
   ]
  },
  {
   "cell_type": "markdown",
   "metadata": {},
   "source": [
    "# Comentários"
   ]
  },
  {
   "cell_type": "code",
   "execution_count": 2,
   "metadata": {},
   "outputs": [
    {
     "data": {
      "text/plain": [
       "'\\ncomentarios de varias linhas\\n'"
      ]
     },
     "execution_count": 2,
     "metadata": {},
     "output_type": "execute_result"
    }
   ],
   "source": [
    "#Minhas varaveis - comentario de uma linha\n",
    "salario = 3450.45\n",
    "despensas = 2456.2\n",
    "\n",
    "\"\"\"\n",
    "comentarios de varias linhas\n",
    "\"\"\""
   ]
  },
  {
   "cell_type": "markdown",
   "metadata": {},
   "source": [
    "# Operadores Aritméticos"
   ]
  },
  {
   "cell_type": "code",
   "execution_count": 6,
   "metadata": {},
   "outputs": [
    {
     "name": "stdout",
     "output_type": "stream",
     "text": [
      "5\n",
      "-3\n",
      "10.6\n",
      "3.1333333333333333\n",
      "3.0\n",
      "256\n",
      "1\n",
      "24\n"
     ]
    }
   ],
   "source": [
    "print(2 + 3)\n",
    "print(4 - 7)\n",
    "print(2 * 5.3)\n",
    "print(9.4 / 3)\n",
    "\n",
    "print(9.4 // 3) #retorna um numero float inteiro\n",
    "print(2 ** 8) #exponenciação 2 elevado a 8\n",
    "print(10 % 3) #modulo, resto da divisão\n",
    "\n",
    "a = 12\n",
    "b = a\n",
    "print(a + b)\n"
   ]
  },
  {
   "cell_type": "markdown",
   "metadata": {},
   "source": [
    "# Desafio Operadores Atirméticos"
   ]
  },
  {
   "cell_type": "code",
   "execution_count": 31,
   "metadata": {},
   "outputs": [
    {
     "name": "stdout",
     "output_type": "stream",
     "text": [
      "7.118491790925821\n"
     ]
    }
   ],
   "source": [
    "salario = 345045 \n",
    "despesas = 24562\n",
    "\n",
    "\n",
    "# porcentagem_gasta = Decimal(salario / despesas) *100\n",
    "# print(porcentagem_gasta)\n",
    "# print(porcentagem_gasta * 100)\n",
    "\n",
    "#resposta do desafio\n",
    "percentual_comprometido = despesas / salario * 100\n",
    "print(percentual_comprometido)"
   ]
  },
  {
   "cell_type": "markdown",
   "metadata": {},
   "source": [
    "# Operadores Ralacionais"
   ]
  },
  {
   "cell_type": "code",
   "execution_count": 35,
   "metadata": {},
   "outputs": [
    {
     "data": {
      "text/plain": [
       "False"
      ]
     },
     "execution_count": 35,
     "metadata": {},
     "output_type": "execute_result"
    }
   ],
   "source": [
    "3 > 4\n",
    "4 >= 3\n",
    "2 < 3\n",
    "3 <= 1\n",
    "3 == 3\n",
    "2 == '3'# -> string\n"
   ]
  },
  {
   "cell_type": "markdown",
   "metadata": {},
   "source": [
    "# Operadores de Atribuição "
   ]
  },
  {
   "cell_type": "code",
   "execution_count": 41,
   "metadata": {},
   "outputs": [
    {
     "name": "stdout",
     "output_type": "stream",
     "text": [
      "10\n",
      "15\n",
      "12\n",
      "24\n",
      "6.0\n",
      "2.0\n",
      "256.0\n",
      "1.0\n"
     ]
    }
   ],
   "source": [
    "a = 3 #atribuição - local de memoria rotulado\n",
    "a = a + 7\n",
    "print(a)\n",
    "\n",
    "#é a mesma coisa que a = a = 5, acrescentado mais 5 a variavel a\n",
    "a += 5\n",
    "print(a)\n",
    "\n",
    "#é a mesma coisa que a = a - 3\n",
    "a -= 3\n",
    "print(a)\n",
    "\n",
    "#é a mesma coisa que a = a * a\n",
    "a *= 2\n",
    "print(a)\n",
    "\n",
    "#é a mesma coisa que a = a / a\n",
    "a /= 4\n",
    "print(a)\n",
    "\n",
    "#resto da divisão\n",
    "a %= 4 \n",
    "print(a)\n",
    "\n",
    "#exponenciação, numero elevado a outro\n",
    "a **= 8\n",
    "print(a)\n",
    "\n",
    "#resultado da divisão será um numero inteiro\n",
    "a //= 256\n",
    "print(a)"
   ]
  },
  {
   "cell_type": "markdown",
   "metadata": {},
   "source": [
    "# Operadores Logicos "
   ]
  },
  {
   "cell_type": "code",
   "execution_count": 1,
   "metadata": {},
   "outputs": [
    {
     "name": "stdout",
     "output_type": "stream",
     "text": [
      "True\n",
      "True\n"
     ]
    }
   ],
   "source": [
    "#OU e E, OR ou AND\n",
    "True or False\n",
    "7 != 3 and 2 > 3 #apenas verdadeiro com verdadeiro dá verdadeiro\n",
    "\n",
    "#tabela verdade do and -> se tiver um falso é tudo falso\n",
    "True and True # true\n",
    "True and False # false\n",
    "False and True # false\n",
    "False and True # false\n",
    "\n",
    "#and é operador binario logico\n",
    "\n",
    "#tabela verdade do OR = OU -> se tiver um verdade, se torna verdade\n",
    "True or True # true\n",
    "True or False # true\n",
    "False or True #true\n",
    "False or False # false\n",
    "\n",
    "# Tabela verdade do XOR -> OU Exclusivo, não possui palavra reservada, é utilizando o diferente(!=)\n",
    "# Apenas é verdade quando os dois operandos forem diferentes\n",
    "True != True # false\n",
    "True != False # true\n",
    "False != True # true\n",
    "False != False # false\n",
    "\n",
    "#Operado de Negação (unário)\n",
    "not True\n",
    "not False\n",
    "\n",
    "#qualquer numero diferente de zero, será verdadeiro\n",
    "not 0  \n",
    "not 1\n",
    "not not -1\n",
    "not not True\n",
    "  \n",
    "\n",
    "#### Cuidado! Não confurdir os operadores bit a bit\n",
    "True & False  # operador E\n",
    "False | False # operador OU\n",
    "True ^ False # operador OU EXCLUSIVO\n",
    "\n",
    "## Faz a comparação bit a bit dos valores\n",
    "\n",
    "# Um pouco de realidade \n",
    "saldo = 1000\n",
    "salario = 4000\n",
    "despesas = 2967\n",
    "\n",
    "# saldo for positivo, maior que zero, e salario menos as despesas for maior ou igual a 20% do salario, true\n",
    "meta = saldo > 0 and salario - despesas >= 0.02 * salario\n",
    "print(meta) \n",
    "\n",
    "#outra forma melhor de escrever esse trecho de codigo\n",
    "saldo_positivo = saldo > 0\n",
    "despesas_controladas = salario - despesas >= 0.0 * salario\n",
    "\n",
    "meta = saldo_positivo and despesas_controladas\n",
    "print(meta)\n",
    " "
   ]
  },
  {
   "cell_type": "markdown",
   "metadata": {},
   "source": [
    "#  Operadores Ternários"
   ]
  },
  {
   "cell_type": "code",
   "execution_count": 2,
   "metadata": {},
   "outputs": [
    {
     "data": {
      "text/plain": [
       "'Hoje estou com as roupas molhadas.'"
      ]
     },
     "execution_count": 2,
     "metadata": {},
     "output_type": "execute_result"
    }
   ],
   "source": [
    "esta_chovendo = True\n",
    "#texto + ('valor se falso', 'valor se verdadeiro') [expressão]                  \n",
    "'hoje estou com as roupas ' + ('secas.', 'molhadas.') [esta_chovendo]\n",
    "#mesma coisa que a sentença de cima\n",
    "'Hoje estou com as roupas ' + ('molhadas.' if esta_chovendo else 'secas.')"
   ]
  },
  {
   "cell_type": "markdown",
   "metadata": {},
   "source": [
    "# Mais Operadores"
   ]
  },
  {
   "cell_type": "code",
   "execution_count": 6,
   "metadata": {},
   "outputs": [
    {
     "data": {
      "text/plain": [
       "True"
      ]
     },
     "execution_count": 6,
     "metadata": {},
     "output_type": "execute_result"
    }
   ],
   "source": [
    "#operador de membro\n",
    "lista = [1, 2, 3, 'Ana', 'Carla']\n",
    "2 in lista\n",
    "'Ana' not in lista\n",
    "\n",
    "#operador de identidade\n",
    "x = 3\n",
    "y = x\n",
    "z = 3\n",
    "x is y #compara o conteudo\n",
    "y is z\n",
    "x is z\n",
    "\n",
    "lista_a = [1, 2, 3]\n",
    "lista_b = lista_a #apontam para o mesmo lugar na memoria aonde tem a lista a, ou seja são a mesma\n",
    "lista_c = [1, 2, 3]#uma outra lista, diferente, porem com os mesmos falores\n",
    "\n",
    "\n",
    "lista_a is lista_b\n",
    "lista_b is lista_c\n",
    "lista_a is not lista_c\n"
   ]
  },
  {
   "cell_type": "markdown",
   "metadata": {},
   "source": [
    "# Builtins"
   ]
  },
  {
   "cell_type": "code",
   "execution_count": 9,
   "metadata": {},
   "outputs": [
    {
     "name": "stdout",
     "output_type": "stream",
     "text": [
      "3.3333333333333335\n"
     ]
    }
   ],
   "source": [
    "#builtins é um modulo que contem os 'tipos' do python, para sabe mais, utilizar a função DIR() que lista todos os membros do escopo atual\n",
    "#ou seja, mostra todas as funcionalidades dispiniveis ao acessar a notação ponto. \n",
    "\n",
    "#type()\n",
    "type(1) #mostra com o tipo da variavel colocada como parametro\n",
    "__builtins__.type(\"Fala Galera!\")\n",
    "__builtins__.print(10 / 3)\n",
    "\n"
   ]
  }
 ],
 "metadata": {
  "kernelspec": {
   "display_name": "Python 3",
   "language": "python",
   "name": "python3"
  },
  "language_info": {
   "codemirror_mode": {
    "name": "ipython",
    "version": 3
   },
   "file_extension": ".py",
   "mimetype": "text/x-python",
   "name": "python",
   "nbconvert_exporter": "python",
   "pygments_lexer": "ipython3",
   "version": "3.7.6"
  }
 },
 "nbformat": 4,
 "nbformat_minor": 4
}
